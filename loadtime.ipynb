{
 "cells": [
  {
   "cell_type": "code",
   "execution_count": 19,
   "metadata": {},
   "outputs": [],
   "source": [
    "import datetime\n",
    "def BaseTime():\n",
    "    # now = datetime.datetime.strptime(temp, \"%Y%m%d %H%M\") # Test 용 코드\n",
    "    now = datetime.datetime.now() # 현재 시간 가져오는 실제 코드\n",
    "    date = now.strftime(\"%Y%m%d\")\n",
    "    hour = int(now.strftime(\"%H\"))\n",
    "    minute = now.strftime(\"%M\")\n",
    "\n",
    "    if int(minute) < 20:\n",
    "        hour -= 1\n",
    "    if hour < 2:\n",
    "        date = now.date() + datetime.timedelta(days=-1)\n",
    "        date = date.strftime(\"%Y%m%d\")\n",
    "        hour = 23\n",
    "    else:\n",
    "        hour -= (hour - 2) % 3\n",
    "    \n",
    "    hour = '0' + str(hour) if hour < 10 else str(hour)\n",
    "\n",
    "    return date, hour + \"00\""
   ]
  }
 ],
 "metadata": {
  "kernelspec": {
   "display_name": "venv",
   "language": "python",
   "name": "python3"
  },
  "language_info": {
   "codemirror_mode": {
    "name": "ipython",
    "version": 3
   },
   "file_extension": ".py",
   "mimetype": "text/x-python",
   "name": "python",
   "nbconvert_exporter": "python",
   "pygments_lexer": "ipython3",
   "version": "3.9.13"
  },
  "orig_nbformat": 4
 },
 "nbformat": 4,
 "nbformat_minor": 2
}
