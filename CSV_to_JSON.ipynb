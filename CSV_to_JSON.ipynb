{
 "cells": [
  {
   "cell_type": "code",
   "execution_count": 1,
   "metadata": {},
   "outputs": [],
   "source": [
    "import pandas as pd\n",
    "table = pd.read_csv('data/city_table.csv', encoding=\"CP949\")\n",
    "table = table[['1단계', '2단계', '3단계']][:-1]"
   ]
  },
  {
   "cell_type": "code",
   "execution_count": 2,
   "metadata": {},
   "outputs": [],
   "source": [
    "table_d = {}\n",
    "sis = table['1단계'].unique()\n",
    "for si in sis:\n",
    "    table_d[si] = {}\n",
    "    guns = table[table['1단계'] == si]['2단계'].unique()\n",
    "    for gun in guns:\n",
    "        table_d[si][gun] = []\n",
    "        dongs = table[(table['1단계']==si) & (table['2단계']==gun)]['3단계'].unique()\n",
    "        for dong in dongs:\n",
    "            table_d[si][gun].append(dong)"
   ]
  },
  {
   "cell_type": "code",
   "execution_count": 5,
   "metadata": {},
   "outputs": [],
   "source": [
    "import json\n",
    "with open('city_table.json', 'w', encoding='utf-8-sig') as f:\n",
    "    f.write(json.dumps(table_d, ensure_ascii=False, indent=4))"
   ]
  }
 ],
 "metadata": {
  "kernelspec": {
   "display_name": "venv",
   "language": "python",
   "name": "python3"
  },
  "language_info": {
   "codemirror_mode": {
    "name": "ipython",
    "version": 3
   },
   "file_extension": ".py",
   "mimetype": "text/x-python",
   "name": "python",
   "nbconvert_exporter": "python",
   "pygments_lexer": "ipython3",
   "version": "3.9.13"
  },
  "orig_nbformat": 4
 },
 "nbformat": 4,
 "nbformat_minor": 2
}
