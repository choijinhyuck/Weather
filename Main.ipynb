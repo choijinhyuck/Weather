{
 "cells": [
  {
   "cell_type": "code",
   "execution_count": null,
   "metadata": {},
   "outputs": [],
   "source": [
    "import import_ipynb\n",
    "import city_table\n",
    "city_table.post_cities"
   ]
  },
  {
   "cell_type": "code",
   "execution_count": null,
   "metadata": {},
   "outputs": [],
   "source": [
    "city_table.result"
   ]
  },
  {
   "cell_type": "code",
   "execution_count": null,
   "metadata": {},
   "outputs": [],
   "source": [
    "def GetResponse(url, feature, serviceKey, numOfRows, now, nx, ny):\n",
    "    query = f'{url}{feature}?serviceKey={serviceKey}&dataType=JSON&numOfRows={numOfRows}&base_date={now[0]}&base_time={now[1]}&nx={nx}&ny={ny}'\n",
    "    response = requests.get(query)\n",
    "    if response.status_code != 200:\n",
    "        print(\"Error\", \"status_code:\", response.status_code)\n",
    "        return False\n",
    "    result = json.loads(response.text)\n",
    "    try:\n",
    "        print(json.dumps(result, indent=4))\n",
    "        contents = result['response']['body']['items']['item']\n",
    "        return contents\n",
    "    except:\n",
    "        print(\"Error message: Invalid request\")\n",
    "        return False"
   ]
  },
  {
   "cell_type": "code",
   "execution_count": null,
   "metadata": {},
   "outputs": [],
   "source": [
    "import requests, json, Keys, loadtime\n",
    "\n",
    "url = \"http://apis.data.go.kr/1360000/VilageFcstInfoService_2.0/\"\n",
    "feature = \"getVilageFcst\"\n",
    "serviceKey = Keys.serviceKey\n",
    "numOfRows = \"2000\"\n",
    "now = loadtime.BaseTime()\n",
    "nx = city_table.result['격자 X'].values[0]\n",
    "ny = city_table.result['격자 Y'].values[0]"
   ]
  },
  {
   "cell_type": "code",
   "execution_count": null,
   "metadata": {},
   "outputs": [],
   "source": [
    "result = GetResponse(url, feature, serviceKey, numOfRows, now, nx, ny)"
   ]
  },
  {
   "cell_type": "code",
   "execution_count": null,
   "metadata": {},
   "outputs": [],
   "source": [
    "import json\n",
    "result = json.loads(response.text)\n",
    "print(json.dumps(result, indent=4))"
   ]
  },
  {
   "cell_type": "code",
   "execution_count": null,
   "metadata": {},
   "outputs": [],
   "source": [
    "contents = result['response']['body']['items']['item']"
   ]
  },
  {
   "cell_type": "code",
   "execution_count": null,
   "metadata": {},
   "outputs": [],
   "source": [
    "count = 0\n",
    "for content in contents:\n",
    "    if content['fcstDate'] == '20230325' and content['fcstTime'] == '0900':\n",
    "        print(content['category'])\n",
    "        count += 1\n",
    "print(count)"
   ]
  },
  {
   "cell_type": "code",
   "execution_count": null,
   "metadata": {},
   "outputs": [],
   "source": [
    "for content in contents:\n",
    "    if content['category'] == 'TMN':\n",
    "        print(content['fcstDate'],content['fcstTime'],\"Lowest temp\",content['fcstValue'])\n",
    "    if content['category'] == 'TMX':\n",
    "        print(content['fcstDate'],content['fcstTime'],\"Highest temp\",content['fcstValue'])"
   ]
  },
  {
   "cell_type": "code",
   "execution_count": null,
   "metadata": {},
   "outputs": [],
   "source": [
    "for content in contents:\n",
    "    if content['fcstDate']=='20230328' and content['category']=='TMP':\n",
    "        print('20230328', content['fcstTime'], content['fcstValue'])"
   ]
  },
  {
   "cell_type": "code",
   "execution_count": null,
   "metadata": {},
   "outputs": [],
   "source": [
    "for content in contents:\n",
    "    if content['fcstDate']=='20230328' and content['category']=='SKY':\n",
    "        print('20230328', content['fcstTime'], content['fcstValue'])"
   ]
  }
 ],
 "metadata": {
  "kernelspec": {
   "display_name": "venv",
   "language": "python",
   "name": "python3"
  },
  "language_info": {
   "codemirror_mode": {
    "name": "ipython",
    "version": 3
   },
   "file_extension": ".py",
   "mimetype": "text/x-python",
   "name": "python",
   "nbconvert_exporter": "python",
   "pygments_lexer": "ipython3",
   "version": "3.9.13"
  },
  "orig_nbformat": 4
 },
 "nbformat": 4,
 "nbformat_minor": 2
}
