{
 "cells": [
  {
   "cell_type": "code",
   "execution_count": null,
   "metadata": {},
   "outputs": [],
   "source": [
    "import requests\n",
    "url = \"http://apis.data.go.kr/1360000/VilageFcstInfoService_2.0/\"\n",
    "feature = \"getVilageFcst\"\n",
    "serviceKey = \"ZF9IkSoLBo6cJeF2qceGbSB3aKKgHn5uggVin8JtLhMR8zraa5WFg2pAloTNj%2BOTP5NyAfV7gDksukCG34JWjg%3D%3D\"\n",
    "dataType = \"JSON\"\n",
    "numOfRows = \"1000\"\n",
    "base_date = \"20230325\"\n",
    "base_time = \"0800\"\n",
    "nx = \"67\"\n",
    "ny = \"101\"\n",
    "\n",
    "query = f'{url}{feature}?serviceKey={serviceKey}&dataType={dataType}&numOfRows={numOfRows}&base_date={base_date}&base_time={base_time}&nx={nx}&ny={ny}'\n",
    "\n",
    "response = requests.get(query)\n",
    "response.status_code"
   ]
  },
  {
   "cell_type": "code",
   "execution_count": null,
   "metadata": {},
   "outputs": [],
   "source": [
    "import json\n",
    "result = json.loads(response.text)\n",
    "print(json.dumps(result, indent=4))\n",
    "result_dic = json.loads(response.text)"
   ]
  }
 ],
 "metadata": {
  "kernelspec": {
   "display_name": "venv",
   "language": "python",
   "name": "python3"
  },
  "language_info": {
   "codemirror_mode": {
    "name": "ipython",
    "version": 3
   },
   "file_extension": ".py",
   "mimetype": "text/x-python",
   "name": "python",
   "nbconvert_exporter": "python",
   "pygments_lexer": "ipython3",
   "version": "3.9.13"
  },
  "orig_nbformat": 4
 },
 "nbformat": 4,
 "nbformat_minor": 2
}
