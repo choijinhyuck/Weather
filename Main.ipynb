{
 "cells": [
  {
   "cell_type": "code",
   "execution_count": 1,
   "metadata": {},
   "outputs": [
    {
     "name": "stdout",
     "output_type": "stream",
     "text": [
      "importing Jupyter notebook from city_table.ipynb\n"
     ]
    },
    {
     "data": {
      "text/html": [
       "<div>\n",
       "<style scoped>\n",
       "    .dataframe tbody tr th:only-of-type {\n",
       "        vertical-align: middle;\n",
       "    }\n",
       "\n",
       "    .dataframe tbody tr th {\n",
       "        vertical-align: top;\n",
       "    }\n",
       "\n",
       "    .dataframe thead th {\n",
       "        text-align: right;\n",
       "    }\n",
       "</style>\n",
       "<table border=\"1\" class=\"dataframe\">\n",
       "  <thead>\n",
       "    <tr style=\"text-align: right;\">\n",
       "      <th></th>\n",
       "      <th>1단계</th>\n",
       "      <th>2단계</th>\n",
       "      <th>3단계</th>\n",
       "      <th>격자 X</th>\n",
       "      <th>격자 Y</th>\n",
       "    </tr>\n",
       "  </thead>\n",
       "  <tbody>\n",
       "    <tr>\n",
       "      <th>0</th>\n",
       "      <td>서울특별시</td>\n",
       "      <td>NaN</td>\n",
       "      <td>NaN</td>\n",
       "      <td>60</td>\n",
       "      <td>127</td>\n",
       "    </tr>\n",
       "    <tr>\n",
       "      <th>1</th>\n",
       "      <td>서울특별시</td>\n",
       "      <td>종로구</td>\n",
       "      <td>NaN</td>\n",
       "      <td>60</td>\n",
       "      <td>127</td>\n",
       "    </tr>\n",
       "    <tr>\n",
       "      <th>2</th>\n",
       "      <td>서울특별시</td>\n",
       "      <td>종로구</td>\n",
       "      <td>청운효자동</td>\n",
       "      <td>60</td>\n",
       "      <td>127</td>\n",
       "    </tr>\n",
       "    <tr>\n",
       "      <th>3</th>\n",
       "      <td>서울특별시</td>\n",
       "      <td>종로구</td>\n",
       "      <td>사직동</td>\n",
       "      <td>60</td>\n",
       "      <td>127</td>\n",
       "    </tr>\n",
       "    <tr>\n",
       "      <th>4</th>\n",
       "      <td>서울특별시</td>\n",
       "      <td>종로구</td>\n",
       "      <td>삼청동</td>\n",
       "      <td>60</td>\n",
       "      <td>127</td>\n",
       "    </tr>\n",
       "    <tr>\n",
       "      <th>...</th>\n",
       "      <td>...</td>\n",
       "      <td>...</td>\n",
       "      <td>...</td>\n",
       "      <td>...</td>\n",
       "      <td>...</td>\n",
       "    </tr>\n",
       "    <tr>\n",
       "      <th>3785</th>\n",
       "      <td>제주특별자치도</td>\n",
       "      <td>서귀포시</td>\n",
       "      <td>서홍동</td>\n",
       "      <td>53</td>\n",
       "      <td>33</td>\n",
       "    </tr>\n",
       "    <tr>\n",
       "      <th>3786</th>\n",
       "      <td>제주특별자치도</td>\n",
       "      <td>서귀포시</td>\n",
       "      <td>대륜동</td>\n",
       "      <td>52</td>\n",
       "      <td>32</td>\n",
       "    </tr>\n",
       "    <tr>\n",
       "      <th>3787</th>\n",
       "      <td>제주특별자치도</td>\n",
       "      <td>서귀포시</td>\n",
       "      <td>대천동</td>\n",
       "      <td>52</td>\n",
       "      <td>32</td>\n",
       "    </tr>\n",
       "    <tr>\n",
       "      <th>3788</th>\n",
       "      <td>제주특별자치도</td>\n",
       "      <td>서귀포시</td>\n",
       "      <td>중문동</td>\n",
       "      <td>51</td>\n",
       "      <td>32</td>\n",
       "    </tr>\n",
       "    <tr>\n",
       "      <th>3789</th>\n",
       "      <td>제주특별자치도</td>\n",
       "      <td>서귀포시</td>\n",
       "      <td>예래동</td>\n",
       "      <td>50</td>\n",
       "      <td>32</td>\n",
       "    </tr>\n",
       "  </tbody>\n",
       "</table>\n",
       "<p>3790 rows × 5 columns</p>\n",
       "</div>"
      ],
      "text/plain": [
       "          1단계   2단계    3단계  격자 X  격자 Y\n",
       "0       서울특별시   NaN    NaN    60   127\n",
       "1       서울특별시   종로구    NaN    60   127\n",
       "2       서울특별시   종로구  청운효자동    60   127\n",
       "3       서울특별시   종로구    사직동    60   127\n",
       "4       서울특별시   종로구    삼청동    60   127\n",
       "...       ...   ...    ...   ...   ...\n",
       "3785  제주특별자치도  서귀포시    서홍동    53    33\n",
       "3786  제주특별자치도  서귀포시    대륜동    52    32\n",
       "3787  제주특별자치도  서귀포시    대천동    52    32\n",
       "3788  제주특별자치도  서귀포시    중문동    51    32\n",
       "3789  제주특별자치도  서귀포시    예래동    50    32\n",
       "\n",
       "[3790 rows x 5 columns]"
      ]
     },
     "execution_count": 1,
     "metadata": {},
     "output_type": "execute_result"
    }
   ],
   "source": [
    "import import_ipynb\n",
    "import city_table\n",
    "city_table.post_cities"
   ]
  },
  {
   "cell_type": "code",
   "execution_count": 2,
   "metadata": {},
   "outputs": [
    {
     "data": {
      "text/html": [
       "<div>\n",
       "<style scoped>\n",
       "    .dataframe tbody tr th:only-of-type {\n",
       "        vertical-align: middle;\n",
       "    }\n",
       "\n",
       "    .dataframe tbody tr th {\n",
       "        vertical-align: top;\n",
       "    }\n",
       "\n",
       "    .dataframe thead th {\n",
       "        text-align: right;\n",
       "    }\n",
       "</style>\n",
       "<table border=\"1\" class=\"dataframe\">\n",
       "  <thead>\n",
       "    <tr style=\"text-align: right;\">\n",
       "      <th></th>\n",
       "      <th>1단계</th>\n",
       "      <th>2단계</th>\n",
       "      <th>3단계</th>\n",
       "      <th>격자 X</th>\n",
       "      <th>격자 Y</th>\n",
       "    </tr>\n",
       "  </thead>\n",
       "  <tbody>\n",
       "    <tr>\n",
       "      <th>1164</th>\n",
       "      <td>대전광역시</td>\n",
       "      <td>유성구</td>\n",
       "      <td>신성동</td>\n",
       "      <td>67</td>\n",
       "      <td>101</td>\n",
       "    </tr>\n",
       "  </tbody>\n",
       "</table>\n",
       "</div>"
      ],
      "text/plain": [
       "        1단계  2단계  3단계  격자 X  격자 Y\n",
       "1164  대전광역시  유성구  신성동    67   101"
      ]
     },
     "execution_count": 2,
     "metadata": {},
     "output_type": "execute_result"
    }
   ],
   "source": [
    "city_table.result"
   ]
  },
  {
   "cell_type": "code",
   "execution_count": 12,
   "metadata": {},
   "outputs": [
    {
     "name": "stdout",
     "output_type": "stream",
     "text": [
      "200\n"
     ]
    }
   ],
   "source": [
    "import requests, Keys\n",
    "from datetime import datetime\n",
    "now = datetime.now()\n",
    "\n",
    "url = \"http://apis.data.go.kr/1360000/VilageFcstInfoService_2.0/\"\n",
    "feature = \"getVilageFcst\"\n",
    "serviceKey = Keys.serviceKey\n",
    "dataType = \"JSON\"\n",
    "numOfRows = \"2000\"\n",
    "base_date = now.strftime(\"%Y%M%d\")\n",
    "base_time = \"2300\"\n",
    "nx = city_table.result['격자 X'].values[0]\n",
    "ny = city_table.result['격자 Y'].values[0]\n",
    "\n",
    "query = f'{url}{feature}?serviceKey={serviceKey}&dataType={dataType}&numOfRows={numOfRows}&base_date={base_date}&base_time={base_time}&nx={nx}&ny={ny}'\n",
    "\n",
    "response = requests.get(query)\n",
    "print(response.status_code)"
   ]
  },
  {
   "cell_type": "code",
   "execution_count": 13,
   "metadata": {},
   "outputs": [
    {
     "name": "stdout",
     "output_type": "stream",
     "text": [
      "{\n",
      "    \"response\": {\n",
      "        \"header\": {\n",
      "            \"resultCode\": \"03\",\n",
      "            \"resultMsg\": \"NO_DATA\"\n",
      "        }\n",
      "    }\n",
      "}\n"
     ]
    }
   ],
   "source": [
    "import json\n",
    "result = json.loads(response.text)\n",
    "print(json.dumps(result, indent=4))"
   ]
  },
  {
   "cell_type": "code",
   "execution_count": 5,
   "metadata": {},
   "outputs": [],
   "source": [
    "contents = result['response']['body']['items']['item']"
   ]
  },
  {
   "cell_type": "code",
   "execution_count": 6,
   "metadata": {},
   "outputs": [
    {
     "name": "stdout",
     "output_type": "stream",
     "text": [
      "0\n"
     ]
    }
   ],
   "source": [
    "count = 0\n",
    "for content in contents:\n",
    "    if content['fcstDate'] == '20230325' and content['fcstTime'] == '0900':\n",
    "        print(content['category'])\n",
    "        count += 1\n",
    "print(count)"
   ]
  },
  {
   "cell_type": "code",
   "execution_count": 7,
   "metadata": {},
   "outputs": [
    {
     "name": "stdout",
     "output_type": "stream",
     "text": [
      "20230328 0600 Lowest temp 4.0\n",
      "20230328 1500 Highest temp 21.0\n",
      "20230329 0600 Lowest temp 5.0\n",
      "20230329 1500 Highest temp 23.0\n",
      "20230330 0600 Lowest temp 6.0\n",
      "20230330 1500 Highest temp 24.0\n"
     ]
    }
   ],
   "source": [
    "for content in contents:\n",
    "    if content['category'] == 'TMN':\n",
    "        print(content['fcstDate'],content['fcstTime'],\"Lowest temp\",content['fcstValue'])\n",
    "    if content['category'] == 'TMX':\n",
    "        print(content['fcstDate'],content['fcstTime'],\"Highest temp\",content['fcstValue'])"
   ]
  },
  {
   "cell_type": "code",
   "execution_count": 8,
   "metadata": {},
   "outputs": [
    {
     "name": "stdout",
     "output_type": "stream",
     "text": [
      "20230328 0000 5\n",
      "20230328 0100 5\n",
      "20230328 0200 4\n",
      "20230328 0300 3\n",
      "20230328 0400 3\n",
      "20230328 0500 2\n",
      "20230328 0600 2\n",
      "20230328 0700 3\n",
      "20230328 0800 4\n",
      "20230328 0900 7\n",
      "20230328 1000 10\n",
      "20230328 1100 13\n",
      "20230328 1200 15\n",
      "20230328 1300 16\n",
      "20230328 1400 17\n",
      "20230328 1500 17\n",
      "20230328 1600 17\n",
      "20230328 1700 16\n",
      "20230328 1800 14\n",
      "20230328 1900 12\n",
      "20230328 2000 11\n",
      "20230328 2100 10\n",
      "20230328 2200 9\n",
      "20230328 2300 8\n"
     ]
    }
   ],
   "source": [
    "for content in contents:\n",
    "    if content['fcstDate']=='20230328' and content['category']=='TMP':\n",
    "        print('20230328', content['fcstTime'], content['fcstValue'])"
   ]
  },
  {
   "cell_type": "code",
   "execution_count": 11,
   "metadata": {},
   "outputs": [
    {
     "name": "stdout",
     "output_type": "stream",
     "text": [
      "20230328 0000 1\n",
      "20230328 0100 1\n",
      "20230328 0200 1\n",
      "20230328 0300 1\n",
      "20230328 0400 1\n",
      "20230328 0500 3\n",
      "20230328 0600 4\n",
      "20230328 0700 4\n",
      "20230328 0800 4\n",
      "20230328 0900 4\n",
      "20230328 1000 4\n",
      "20230328 1100 4\n",
      "20230328 1200 3\n",
      "20230328 1300 3\n",
      "20230328 1400 1\n",
      "20230328 1500 1\n",
      "20230328 1600 1\n",
      "20230328 1700 1\n",
      "20230328 1800 1\n",
      "20230328 1900 1\n",
      "20230328 2000 1\n",
      "20230328 2100 1\n",
      "20230328 2200 1\n",
      "20230328 2300 1\n"
     ]
    }
   ],
   "source": [
    "for content in contents:\n",
    "    if content['fcstDate']=='20230328' and content['category']=='SKY':\n",
    "        print('20230328', content['fcstTime'], content['fcstValue'])"
   ]
  }
 ],
 "metadata": {
  "kernelspec": {
   "display_name": "venv",
   "language": "python",
   "name": "python3"
  },
  "language_info": {
   "codemirror_mode": {
    "name": "ipython",
    "version": 3
   },
   "file_extension": ".py",
   "mimetype": "text/x-python",
   "name": "python",
   "nbconvert_exporter": "python",
   "pygments_lexer": "ipython3",
   "version": "3.9.13"
  },
  "orig_nbformat": 4
 },
 "nbformat": 4,
 "nbformat_minor": 2
}
